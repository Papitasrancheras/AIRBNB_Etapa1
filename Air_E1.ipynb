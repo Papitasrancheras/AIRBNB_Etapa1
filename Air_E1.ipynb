{
 "cells": [
  {
   "cell_type": "markdown",
   "metadata": {},
   "source": [
    "# Reto Airbnb"
   ]
  },
  {
   "cell_type": "code",
   "execution_count": 3,
   "metadata": {},
   "outputs": [
    {
     "data": {
      "text/html": [
       "        <script type=\"text/javascript\">\n",
       "        window.PlotlyConfig = {MathJaxConfig: 'local'};\n",
       "        if (window.MathJax && window.MathJax.Hub && window.MathJax.Hub.Config) {window.MathJax.Hub.Config({SVG: {font: \"STIX-Web\"}});}\n",
       "        if (typeof require !== 'undefined') {\n",
       "        require.undef(\"plotly\");\n",
       "        requirejs.config({\n",
       "            paths: {\n",
       "                'plotly': ['https://cdn.plot.ly/plotly-2.14.0.min']\n",
       "            }\n",
       "        });\n",
       "        require(['plotly'], function(Plotly) {\n",
       "            window._Plotly = Plotly;\n",
       "        });\n",
       "        }\n",
       "        </script>\n",
       "        "
      ]
     },
     "metadata": {},
     "output_type": "display_data"
    }
   ],
   "source": [
    "#Importamos las librerías que utilizaremos en nuestro proyecto \n",
    "import pandas as pd\n",
    "import numpy as np\n",
    "import matplotlib.pyplot as plt\n",
    "import cufflinks as cf"
   ]
  },
  {
   "cell_type": "code",
   "execution_count": 4,
   "metadata": {},
   "outputs": [
    {
     "data": {
      "text/html": [
       "<div>\n",
       "<style scoped>\n",
       "    .dataframe tbody tr th:only-of-type {\n",
       "        vertical-align: middle;\n",
       "    }\n",
       "\n",
       "    .dataframe tbody tr th {\n",
       "        vertical-align: top;\n",
       "    }\n",
       "\n",
       "    .dataframe thead th {\n",
       "        text-align: right;\n",
       "    }\n",
       "</style>\n",
       "<table border=\"1\" class=\"dataframe\">\n",
       "  <thead>\n",
       "    <tr style=\"text-align: right;\">\n",
       "      <th></th>\n",
       "      <th>id</th>\n",
       "      <th>name</th>\n",
       "      <th>host_id</th>\n",
       "      <th>host_name</th>\n",
       "      <th>neighbourhood_group</th>\n",
       "      <th>neighbourhood</th>\n",
       "      <th>latitude</th>\n",
       "      <th>longitude</th>\n",
       "      <th>room_type</th>\n",
       "      <th>price</th>\n",
       "      <th>minimum_nights</th>\n",
       "      <th>number_of_reviews</th>\n",
       "      <th>last_review</th>\n",
       "      <th>reviews_per_month</th>\n",
       "      <th>calculated_host_listings_count</th>\n",
       "      <th>availability_365</th>\n",
       "      <th>number_of_reviews_ltm</th>\n",
       "    </tr>\n",
       "  </thead>\n",
       "  <tbody>\n",
       "    <tr>\n",
       "      <th>0</th>\n",
       "      <td>8.266910e+05</td>\n",
       "      <td>Suite 7 - Suites Condesa Mexico</td>\n",
       "      <td>4326326</td>\n",
       "      <td>Rodrigo</td>\n",
       "      <td>NaN</td>\n",
       "      <td>CuauhtÃ©moc</td>\n",
       "      <td>19.409150</td>\n",
       "      <td>-99.173210</td>\n",
       "      <td>Entire home/apt</td>\n",
       "      <td>850.0</td>\n",
       "      <td>180.0</td>\n",
       "      <td>18.0</td>\n",
       "      <td>11/05/2019</td>\n",
       "      <td>0.17</td>\n",
       "      <td>6.0</td>\n",
       "      <td>325.0</td>\n",
       "      <td>0.0</td>\n",
       "    </tr>\n",
       "    <tr>\n",
       "      <th>1</th>\n",
       "      <td>3.579700e+04</td>\n",
       "      <td>Villa Dante</td>\n",
       "      <td>153786</td>\n",
       "      <td>Dici</td>\n",
       "      <td>NaN</td>\n",
       "      <td>Cuajimalpa de Morelos</td>\n",
       "      <td>19.382830</td>\n",
       "      <td>-99.271780</td>\n",
       "      <td>Entire home/apt</td>\n",
       "      <td>4056.0</td>\n",
       "      <td>1.0</td>\n",
       "      <td>0.0</td>\n",
       "      <td>NaN</td>\n",
       "      <td>NaN</td>\n",
       "      <td>1.0</td>\n",
       "      <td>363.0</td>\n",
       "      <td>0.0</td>\n",
       "    </tr>\n",
       "    <tr>\n",
       "      <th>2</th>\n",
       "      <td>5.239058e+07</td>\n",
       "      <td>Casa en privada con  vigilancia, estacionamiento.</td>\n",
       "      <td>424060909</td>\n",
       "      <td>Maria Carmen Marta</td>\n",
       "      <td>NaN</td>\n",
       "      <td>Cuajimalpa de Morelos</td>\n",
       "      <td>19.395126</td>\n",
       "      <td>-99.277374</td>\n",
       "      <td>Private room</td>\n",
       "      <td>752.0</td>\n",
       "      <td>1.0</td>\n",
       "      <td>0.0</td>\n",
       "      <td>NaN</td>\n",
       "      <td>NaN</td>\n",
       "      <td>1.0</td>\n",
       "      <td>365.0</td>\n",
       "      <td>0.0</td>\n",
       "    </tr>\n",
       "    <tr>\n",
       "      <th>3</th>\n",
       "      <td>8.267600e+05</td>\n",
       "      <td>Suite 12 - Suites Condesa Mexico</td>\n",
       "      <td>4326326</td>\n",
       "      <td>Rodrigo</td>\n",
       "      <td>NaN</td>\n",
       "      <td>CuauhtÃ©moc</td>\n",
       "      <td>19.409150</td>\n",
       "      <td>-99.173210</td>\n",
       "      <td>Entire home/apt</td>\n",
       "      <td>971.0</td>\n",
       "      <td>4.0</td>\n",
       "      <td>17.0</td>\n",
       "      <td>15/03/2020</td>\n",
       "      <td>0.15</td>\n",
       "      <td>6.0</td>\n",
       "      <td>203.0</td>\n",
       "      <td>0.0</td>\n",
       "    </tr>\n",
       "    <tr>\n",
       "      <th>4</th>\n",
       "      <td>4.461600e+04</td>\n",
       "      <td>CONDESA HAUS  B&amp;B</td>\n",
       "      <td>196253</td>\n",
       "      <td>Condesa Haus Bed &amp; Breakfast  CDMX</td>\n",
       "      <td>NaN</td>\n",
       "      <td>CuauhtÃ©moc</td>\n",
       "      <td>19.411620</td>\n",
       "      <td>-99.177940</td>\n",
       "      <td>Entire home/apt</td>\n",
       "      <td>18000.0</td>\n",
       "      <td>1.0</td>\n",
       "      <td>56.0</td>\n",
       "      <td>05/06/2022</td>\n",
       "      <td>0.43</td>\n",
       "      <td>11.0</td>\n",
       "      <td>347.0</td>\n",
       "      <td>7.0</td>\n",
       "    </tr>\n",
       "    <tr>\n",
       "      <th>...</th>\n",
       "      <td>...</td>\n",
       "      <td>...</td>\n",
       "      <td>...</td>\n",
       "      <td>...</td>\n",
       "      <td>...</td>\n",
       "      <td>...</td>\n",
       "      <td>...</td>\n",
       "      <td>...</td>\n",
       "      <td>...</td>\n",
       "      <td>...</td>\n",
       "      <td>...</td>\n",
       "      <td>...</td>\n",
       "      <td>...</td>\n",
       "      <td>...</td>\n",
       "      <td>...</td>\n",
       "      <td>...</td>\n",
       "      <td>...</td>\n",
       "    </tr>\n",
       "    <tr>\n",
       "      <th>21664</th>\n",
       "      <td>6.180000e+17</td>\n",
       "      <td>CÃ³modo Departamento en Satelite-Echegaray con...</td>\n",
       "      <td>442065952</td>\n",
       "      <td>Ricardo</td>\n",
       "      <td>NaN</td>\n",
       "      <td>Azcapotzalco</td>\n",
       "      <td>19.499980</td>\n",
       "      <td>-99.226010</td>\n",
       "      <td>Entire home/apt</td>\n",
       "      <td>673.0</td>\n",
       "      <td>1.0</td>\n",
       "      <td>3.0</td>\n",
       "      <td>29/05/2022</td>\n",
       "      <td>2.73</td>\n",
       "      <td>79.0</td>\n",
       "      <td>NaN</td>\n",
       "      <td>3.0</td>\n",
       "    </tr>\n",
       "    <tr>\n",
       "      <th>21665</th>\n",
       "      <td>2.210710e+07</td>\n",
       "      <td>GREAT &amp; cozy flat in Satelite</td>\n",
       "      <td>387195495</td>\n",
       "      <td>Daniela</td>\n",
       "      <td>NaN</td>\n",
       "      <td>Azcapotzalco</td>\n",
       "      <td>119.507870</td>\n",
       "      <td>-99.220670</td>\n",
       "      <td>Entire home/apt</td>\n",
       "      <td>897.0</td>\n",
       "      <td>2.0</td>\n",
       "      <td>107.0</td>\n",
       "      <td>07/02/2022</td>\n",
       "      <td>1.97</td>\n",
       "      <td>11.0</td>\n",
       "      <td>314.0</td>\n",
       "      <td>17.0</td>\n",
       "    </tr>\n",
       "    <tr>\n",
       "      <th>21666</th>\n",
       "      <td>4.061781e+07</td>\n",
       "      <td>Blanca</td>\n",
       "      <td>96471106</td>\n",
       "      <td>Mary Carmen</td>\n",
       "      <td>NaN</td>\n",
       "      <td>Azcapotzalco</td>\n",
       "      <td>19.507530</td>\n",
       "      <td>-99.225060</td>\n",
       "      <td>Entire home/apt</td>\n",
       "      <td>230.0</td>\n",
       "      <td>1.0</td>\n",
       "      <td>5.0</td>\n",
       "      <td>31/12/2019</td>\n",
       "      <td>0.16</td>\n",
       "      <td>4.0</td>\n",
       "      <td>140.0</td>\n",
       "      <td>0.0</td>\n",
       "    </tr>\n",
       "    <tr>\n",
       "      <th>21667</th>\n",
       "      <td>5.700000e+17</td>\n",
       "      <td>Casa LimÃ³n. Confort y seguridad</td>\n",
       "      <td>30446640</td>\n",
       "      <td>Ericka</td>\n",
       "      <td>NaN</td>\n",
       "      <td>Azcapotzalco</td>\n",
       "      <td>19.493360</td>\n",
       "      <td>-99.229090</td>\n",
       "      <td>Entire home/apt</td>\n",
       "      <td>690.0</td>\n",
       "      <td>3.0</td>\n",
       "      <td>0.0</td>\n",
       "      <td>NaN</td>\n",
       "      <td>NaN</td>\n",
       "      <td>1.0</td>\n",
       "      <td>354.0</td>\n",
       "      <td>0.0</td>\n",
       "    </tr>\n",
       "    <tr>\n",
       "      <th>21668</th>\n",
       "      <td>3.717560e+07</td>\n",
       "      <td>Linda casa con enorme jardÃ­n en zona residenc...</td>\n",
       "      <td>51907431</td>\n",
       "      <td>Cecilia</td>\n",
       "      <td>NaN</td>\n",
       "      <td>Azcapotzalco</td>\n",
       "      <td>19.490040</td>\n",
       "      <td>-99.230310</td>\n",
       "      <td>Entire home/apt</td>\n",
       "      <td>3228.0</td>\n",
       "      <td>2.0</td>\n",
       "      <td>58.0</td>\n",
       "      <td>13/06/2022</td>\n",
       "      <td>1.66</td>\n",
       "      <td>1.0</td>\n",
       "      <td>10.0</td>\n",
       "      <td>20.0</td>\n",
       "    </tr>\n",
       "  </tbody>\n",
       "</table>\n",
       "<p>21669 rows × 17 columns</p>\n",
       "</div>"
      ],
      "text/plain": [
       "                 id                                               name  \\\n",
       "0      8.266910e+05                    Suite 7 - Suites Condesa Mexico   \n",
       "1      3.579700e+04                                        Villa Dante   \n",
       "2      5.239058e+07  Casa en privada con  vigilancia, estacionamiento.   \n",
       "3      8.267600e+05                   Suite 12 - Suites Condesa Mexico   \n",
       "4      4.461600e+04                                  CONDESA HAUS  B&B   \n",
       "...             ...                                                ...   \n",
       "21664  6.180000e+17  CÃ³modo Departamento en Satelite-Echegaray con...   \n",
       "21665  2.210710e+07                      GREAT & cozy flat in Satelite   \n",
       "21666  4.061781e+07                                             Blanca   \n",
       "21667  5.700000e+17                   Casa LimÃ³n. Confort y seguridad   \n",
       "21668  3.717560e+07  Linda casa con enorme jardÃ­n en zona residenc...   \n",
       "\n",
       "         host_id                           host_name  neighbourhood_group  \\\n",
       "0        4326326                             Rodrigo                  NaN   \n",
       "1         153786                                Dici                  NaN   \n",
       "2      424060909                  Maria Carmen Marta                  NaN   \n",
       "3        4326326                             Rodrigo                  NaN   \n",
       "4         196253  Condesa Haus Bed & Breakfast  CDMX                  NaN   \n",
       "...          ...                                 ...                  ...   \n",
       "21664  442065952                             Ricardo                  NaN   \n",
       "21665  387195495                             Daniela                  NaN   \n",
       "21666   96471106                         Mary Carmen                  NaN   \n",
       "21667   30446640                              Ericka                  NaN   \n",
       "21668   51907431                             Cecilia                  NaN   \n",
       "\n",
       "               neighbourhood    latitude  longitude        room_type    price  \\\n",
       "0                CuauhtÃ©moc   19.409150 -99.173210  Entire home/apt    850.0   \n",
       "1      Cuajimalpa de Morelos   19.382830 -99.271780  Entire home/apt   4056.0   \n",
       "2      Cuajimalpa de Morelos   19.395126 -99.277374     Private room    752.0   \n",
       "3                CuauhtÃ©moc   19.409150 -99.173210  Entire home/apt    971.0   \n",
       "4                CuauhtÃ©moc   19.411620 -99.177940  Entire home/apt  18000.0   \n",
       "...                      ...         ...        ...              ...      ...   \n",
       "21664           Azcapotzalco   19.499980 -99.226010  Entire home/apt    673.0   \n",
       "21665           Azcapotzalco  119.507870 -99.220670  Entire home/apt    897.0   \n",
       "21666           Azcapotzalco   19.507530 -99.225060  Entire home/apt    230.0   \n",
       "21667           Azcapotzalco   19.493360 -99.229090  Entire home/apt    690.0   \n",
       "21668           Azcapotzalco   19.490040 -99.230310  Entire home/apt   3228.0   \n",
       "\n",
       "       minimum_nights  number_of_reviews last_review  reviews_per_month  \\\n",
       "0               180.0               18.0  11/05/2019               0.17   \n",
       "1                 1.0                0.0         NaN                NaN   \n",
       "2                 1.0                0.0         NaN                NaN   \n",
       "3                 4.0               17.0  15/03/2020               0.15   \n",
       "4                 1.0               56.0  05/06/2022               0.43   \n",
       "...               ...                ...         ...                ...   \n",
       "21664             1.0                3.0  29/05/2022               2.73   \n",
       "21665             2.0              107.0  07/02/2022               1.97   \n",
       "21666             1.0                5.0  31/12/2019               0.16   \n",
       "21667             3.0                0.0         NaN                NaN   \n",
       "21668             2.0               58.0  13/06/2022               1.66   \n",
       "\n",
       "       calculated_host_listings_count  availability_365  number_of_reviews_ltm  \n",
       "0                                 6.0             325.0                    0.0  \n",
       "1                                 1.0             363.0                    0.0  \n",
       "2                                 1.0             365.0                    0.0  \n",
       "3                                 6.0             203.0                    0.0  \n",
       "4                                11.0             347.0                    7.0  \n",
       "...                               ...               ...                    ...  \n",
       "21664                            79.0               NaN                    3.0  \n",
       "21665                            11.0             314.0                   17.0  \n",
       "21666                             4.0             140.0                    0.0  \n",
       "21667                             1.0             354.0                    0.0  \n",
       "21668                             1.0              10.0                   20.0  \n",
       "\n",
       "[21669 rows x 17 columns]"
      ]
     },
     "execution_count": 4,
     "metadata": {},
     "output_type": "execute_result"
    }
   ],
   "source": [
    "#Leo mi archivo.csv\n",
    "Air = pd.read_csv(\"airbnb.csv\", encoding= \"ISO-8859-1\")\n",
    "Air"
   ]
  },
  {
   "cell_type": "markdown",
   "metadata": {},
   "source": [
    "### Identificación y tratamiento de nulos "
   ]
  },
  {
   "cell_type": "code",
   "execution_count": 5,
   "metadata": {},
   "outputs": [
    {
     "data": {
      "text/plain": [
       "id                                    0\n",
       "name                                  3\n",
       "host_id                               0\n",
       "host_name                             7\n",
       "neighbourhood_group               21669\n",
       "neighbourhood                         6\n",
       "latitude                              4\n",
       "longitude                             2\n",
       "room_type                             9\n",
       "price                                 1\n",
       "minimum_nights                        1\n",
       "number_of_reviews                     4\n",
       "last_review                        3990\n",
       "reviews_per_month                  3990\n",
       "calculated_host_listings_count        2\n",
       "availability_365                      4\n",
       "number_of_reviews_ltm                 4\n",
       "dtype: int64"
      ]
     },
     "execution_count": 5,
     "metadata": {},
     "output_type": "execute_result"
    }
   ],
   "source": [
    "#Revisemos nuestra base de datos para identificar valores nulos \n",
    "valores_nulos=Air.isnull().sum()\n",
    "valores_nulos"
   ]
  },
  {
   "cell_type": "markdown",
   "metadata": {},
   "source": [
    "#### Columna host_name"
   ]
  },
  {
   "cell_type": "code",
   "execution_count": 6,
   "metadata": {},
   "outputs": [
    {
     "data": {
      "text/plain": [
       "id                                    0\n",
       "name                                  3\n",
       "host_id                               0\n",
       "host_name                             0\n",
       "neighbourhood_group               21669\n",
       "neighbourhood                         6\n",
       "latitude                              4\n",
       "longitude                             2\n",
       "room_type                             9\n",
       "price                                 1\n",
       "minimum_nights                        1\n",
       "number_of_reviews                     4\n",
       "last_review                        3990\n",
       "reviews_per_month                  3990\n",
       "calculated_host_listings_count        2\n",
       "availability_365                      4\n",
       "number_of_reviews_ltm                 4\n",
       "dtype: int64"
      ]
     },
     "execution_count": 6,
     "metadata": {},
     "output_type": "execute_result"
    }
   ],
   "source": [
    "#Para esta columna rellenaremos los valores nulos con el objeto anterior de la columna host_name\n",
    "Air[\"host_name\"]= Air[\"host_name\"].fillna(\"bfill\") \n",
    "\n",
    "#Comprobamos los cambios \n",
    "valores_nulos=Air.isnull().sum()\n",
    "valores_nulos"
   ]
  },
  {
   "cell_type": "markdown",
   "metadata": {},
   "source": [
    "#### Columna neighbourhood  \n"
   ]
  },
  {
   "cell_type": "code",
   "execution_count": 7,
   "metadata": {},
   "outputs": [
    {
     "data": {
      "text/plain": [
       "id                                    0\n",
       "name                                  3\n",
       "host_id                               0\n",
       "host_name                             0\n",
       "neighbourhood_group               21669\n",
       "neighbourhood                         0\n",
       "latitude                              4\n",
       "longitude                             2\n",
       "room_type                             9\n",
       "price                                 1\n",
       "minimum_nights                        1\n",
       "number_of_reviews                     4\n",
       "last_review                        3990\n",
       "reviews_per_month                  3990\n",
       "calculated_host_listings_count        2\n",
       "availability_365                      4\n",
       "number_of_reviews_ltm                 4\n",
       "dtype: int64"
      ]
     },
     "execution_count": 7,
     "metadata": {},
     "output_type": "execute_result"
    }
   ],
   "source": [
    "#Para esta columna rellenaremos los valores nulos el objeto posterior a la columna \n",
    "Air[\"neighbourhood\"]= Air[\"neighbourhood\"].fillna(\"ffill\")\n",
    "\n",
    "#Comprobamos los cambios \n",
    "valores_nulos=Air.isnull().sum()\n",
    "valores_nulos"
   ]
  },
  {
   "cell_type": "markdown",
   "metadata": {},
   "source": [
    "#### Columna Latitude"
   ]
  },
  {
   "cell_type": "code",
   "execution_count": 8,
   "metadata": {},
   "outputs": [
    {
     "data": {
      "text/plain": [
       "id                                    0\n",
       "name                                  3\n",
       "host_id                               0\n",
       "host_name                             0\n",
       "neighbourhood_group               21669\n",
       "neighbourhood                         0\n",
       "latitude                              0\n",
       "longitude                             2\n",
       "room_type                             9\n",
       "price                                 1\n",
       "minimum_nights                        1\n",
       "number_of_reviews                     4\n",
       "last_review                        3990\n",
       "reviews_per_month                  3990\n",
       "calculated_host_listings_count        2\n",
       "availability_365                      4\n",
       "number_of_reviews_ltm                 4\n",
       "dtype: int64"
      ]
     },
     "execution_count": 8,
     "metadata": {},
     "output_type": "execute_result"
    }
   ],
   "source": [
    "#Para esta columna rellenaremos los valores nulos con la media de la columna\n",
    "Air[\"latitude\"]= Air[\"latitude\"].fillna(Air[\"latitude\"].mean())\n",
    "\n",
    "#Comprobamos los cambios \n",
    "valores_nulos=Air.isnull().sum()\n",
    "valores_nulos"
   ]
  },
  {
   "cell_type": "markdown",
   "metadata": {},
   "source": [
    "#### Columna longuitude"
   ]
  },
  {
   "cell_type": "code",
   "execution_count": 9,
   "metadata": {},
   "outputs": [
    {
     "data": {
      "text/plain": [
       "id                                    0\n",
       "name                                  3\n",
       "host_id                               0\n",
       "host_name                             0\n",
       "neighbourhood_group               21669\n",
       "neighbourhood                         0\n",
       "latitude                              0\n",
       "longitude                             0\n",
       "room_type                             9\n",
       "price                                 1\n",
       "minimum_nights                        1\n",
       "number_of_reviews                     4\n",
       "last_review                        3990\n",
       "reviews_per_month                  3990\n",
       "calculated_host_listings_count        2\n",
       "availability_365                      4\n",
       "number_of_reviews_ltm                 4\n",
       "dtype: int64"
      ]
     },
     "execution_count": 9,
     "metadata": {},
     "output_type": "execute_result"
    }
   ],
   "source": [
    "#Para esta columna rellenaremos con los valores de la mediana de la columna \n",
    "Air[\"longitude\"]= Air[\"longitude\"].fillna(Air[\"longitude\"].median())\n",
    "\n",
    "#Comprobamos los cambios \n",
    "valores_nulos=Air.isnull().sum()\n",
    "valores_nulos\n"
   ]
  },
  {
   "cell_type": "markdown",
   "metadata": {},
   "source": [
    "#### Columna room_type"
   ]
  },
  {
   "cell_type": "code",
   "execution_count": 10,
   "metadata": {},
   "outputs": [
    {
     "data": {
      "text/plain": [
       "id                                    0\n",
       "name                                  3\n",
       "host_id                               0\n",
       "host_name                             0\n",
       "neighbourhood_group               21669\n",
       "neighbourhood                         0\n",
       "latitude                              0\n",
       "longitude                             0\n",
       "room_type                             0\n",
       "price                                 1\n",
       "minimum_nights                        1\n",
       "number_of_reviews                     4\n",
       "last_review                        3990\n",
       "reviews_per_month                  3990\n",
       "calculated_host_listings_count        2\n",
       "availability_365                      4\n",
       "number_of_reviews_ltm                 4\n",
       "dtype: int64"
      ]
     },
     "execution_count": 10,
     "metadata": {},
     "output_type": "execute_result"
    }
   ],
   "source": [
    "#Para esta columna rellenaremos los valores nulos con el string \"Private room\"\n",
    "Air[\"room_type\"]= Air[\"room_type\"].fillna(\"room_type\")\n",
    "\n",
    "#Comprobamos los cambios \n",
    "valores_nulos=Air.isnull().sum()\n",
    "valores_nulos"
   ]
  },
  {
   "cell_type": "markdown",
   "metadata": {},
   "source": [
    "#### Columna price"
   ]
  },
  {
   "cell_type": "code",
   "execution_count": 11,
   "metadata": {},
   "outputs": [
    {
     "data": {
      "text/plain": [
       "id                                    0\n",
       "name                                  3\n",
       "host_id                               0\n",
       "host_name                             0\n",
       "neighbourhood_group               21669\n",
       "neighbourhood                         0\n",
       "latitude                              0\n",
       "longitude                             0\n",
       "room_type                             0\n",
       "price                                 0\n",
       "minimum_nights                        1\n",
       "number_of_reviews                     4\n",
       "last_review                        3990\n",
       "reviews_per_month                  3990\n",
       "calculated_host_listings_count        2\n",
       "availability_365                      4\n",
       "number_of_reviews_ltm                 4\n",
       "dtype: int64"
      ]
     },
     "execution_count": 11,
     "metadata": {},
     "output_type": "execute_result"
    }
   ],
   "source": [
    "#Para esta columna rellenaremos los valores nulos con la media de la columna\n",
    "Air[\"price\"]= Air[\"price\"].fillna(Air[\"price\"].mean())\n",
    "\n",
    "#Comprobamos los cambios \n",
    "valores_nulos=Air.isnull().sum()\n",
    "valores_nulos"
   ]
  },
  {
   "cell_type": "markdown",
   "metadata": {},
   "source": [
    "#### Columna minimun_nights"
   ]
  },
  {
   "cell_type": "code",
   "execution_count": 12,
   "metadata": {},
   "outputs": [
    {
     "data": {
      "text/plain": [
       "id                                    0\n",
       "name                                  3\n",
       "host_id                               0\n",
       "host_name                             0\n",
       "neighbourhood_group               21669\n",
       "neighbourhood                         0\n",
       "latitude                              0\n",
       "longitude                             0\n",
       "room_type                             0\n",
       "price                                 0\n",
       "minimum_nights                        0\n",
       "number_of_reviews                     4\n",
       "last_review                        3990\n",
       "reviews_per_month                  3990\n",
       "calculated_host_listings_count        2\n",
       "availability_365                      4\n",
       "number_of_reviews_ltm                 4\n",
       "dtype: int64"
      ]
     },
     "execution_count": 12,
     "metadata": {},
     "output_type": "execute_result"
    }
   ],
   "source": [
    "#Para esta columna rellenaremos los valores nulos con el valor 1\n",
    "Air[\"minimum_nights\"]= Air[\"minimum_nights\"].fillna(1)\n",
    "\n",
    "#Comprobamos los cambios \n",
    "valores_nulos=Air.isnull().sum()\n",
    "valores_nulos"
   ]
  },
  {
   "cell_type": "markdown",
   "metadata": {},
   "source": [
    "#### Columna number_of_reviews"
   ]
  },
  {
   "cell_type": "code",
   "execution_count": 13,
   "metadata": {},
   "outputs": [
    {
     "data": {
      "text/plain": [
       "id                                    0\n",
       "name                                  3\n",
       "host_id                               0\n",
       "host_name                             0\n",
       "neighbourhood_group               21669\n",
       "neighbourhood                         0\n",
       "latitude                              0\n",
       "longitude                             0\n",
       "room_type                             0\n",
       "price                                 0\n",
       "minimum_nights                        0\n",
       "number_of_reviews                     0\n",
       "last_review                        3990\n",
       "reviews_per_month                  3990\n",
       "calculated_host_listings_count        2\n",
       "availability_365                      4\n",
       "number_of_reviews_ltm                 4\n",
       "dtype: int64"
      ]
     },
     "execution_count": 13,
     "metadata": {},
     "output_type": "execute_result"
    }
   ],
   "source": [
    "#Para esta columna rellenaremos los valores nulos con el valor 0\n",
    "Air[\"number_of_reviews\"]= Air[\"number_of_reviews\"].fillna(0)\n",
    "\n",
    "#Comprobamos los cambios \n",
    "valores_nulos=Air.isnull().sum()\n",
    "valores_nulos"
   ]
  },
  {
   "cell_type": "markdown",
   "metadata": {},
   "source": [
    "#### Columna last_review"
   ]
  },
  {
   "cell_type": "code",
   "execution_count": 16,
   "metadata": {},
   "outputs": [
    {
     "data": {
      "text/plain": [
       "id                                    0\n",
       "name                                  3\n",
       "host_id                               0\n",
       "host_name                             0\n",
       "neighbourhood_group               21669\n",
       "neighbourhood                         0\n",
       "latitude                              0\n",
       "longitude                             0\n",
       "room_type                             0\n",
       "price                                 0\n",
       "minimum_nights                        0\n",
       "number_of_reviews                     0\n",
       "last_review                           0\n",
       "reviews_per_month                  3990\n",
       "calculated_host_listings_count        2\n",
       "availability_365                      4\n",
       "number_of_reviews_ltm                 4\n",
       "dtype: int64"
      ]
     },
     "execution_count": 16,
     "metadata": {},
     "output_type": "execute_result"
    }
   ],
   "source": [
    "#Para esta columna rellenaremos con el objeto \"31/12/2022\"\n",
    "Air[\"last_review\"]= Air[\"last_review\"].fillna(\"31/12/2022\")\n",
    "\n",
    "#Comprobamos los cambios \n",
    "valores_nulos=Air.isnull().sum()\n",
    "valores_nulos"
   ]
  },
  {
   "cell_type": "markdown",
   "metadata": {},
   "source": [
    "#### Columna reviews_per_month"
   ]
  },
  {
   "cell_type": "code",
   "execution_count": 18,
   "metadata": {},
   "outputs": [
    {
     "data": {
      "text/plain": [
       "id                                    0\n",
       "name                                  3\n",
       "host_id                               0\n",
       "host_name                             0\n",
       "neighbourhood_group               21669\n",
       "neighbourhood                         0\n",
       "latitude                              0\n",
       "longitude                             0\n",
       "room_type                             0\n",
       "price                                 0\n",
       "minimum_nights                        0\n",
       "number_of_reviews                     0\n",
       "last_review                           0\n",
       "reviews_per_month                     0\n",
       "calculated_host_listings_count        2\n",
       "availability_365                      4\n",
       "number_of_reviews_ltm                 4\n",
       "dtype: int64"
      ]
     },
     "execution_count": 18,
     "metadata": {},
     "output_type": "execute_result"
    }
   ],
   "source": [
    "#Para esta columna rellenaremos los nulos con el valor de la media de la columna \n",
    "Air[\"reviews_per_month\"]= Air[\"reviews_per_month\"].fillna(Air[\"reviews_per_month\"].mean())\n",
    "\n",
    "#Comprobamos los cambios \n",
    "valores_nulos=Air.isnull().sum()\n",
    "valores_nulos"
   ]
  },
  {
   "cell_type": "markdown",
   "metadata": {},
   "source": [
    "#### Columna calculated_host_listings_count"
   ]
  },
  {
   "cell_type": "code",
   "execution_count": null,
   "metadata": {},
   "outputs": [],
   "source": [
    "#Para esta columna se rellenarán los valores nulos con el valor 1\n",
    "Air[\"calculated_host_listings_count\"]= Air[\"calculated_host_listings_count\"].fillna(\"1\")\n",
    "\n",
    "#Comprobamos los cambios \n",
    "valores_nulos=Air.isnull().sum()\n",
    "valores_nulos"
   ]
  },
  {
   "cell_type": "markdown",
   "metadata": {},
   "source": [
    "#### Columnas avaliavility_365 y number_of_reviews_ltm "
   ]
  },
  {
   "cell_type": "code",
   "execution_count": 23,
   "metadata": {},
   "outputs": [
    {
     "data": {
      "text/plain": [
       "id                                    0\n",
       "name                                  3\n",
       "host_id                               0\n",
       "host_name                             0\n",
       "neighbourhood_group               21669\n",
       "neighbourhood                         0\n",
       "latitude                              0\n",
       "longitude                             0\n",
       "room_type                             0\n",
       "price                                 0\n",
       "minimum_nights                        0\n",
       "number_of_reviews                     0\n",
       "last_review                           0\n",
       "reviews_per_month                     0\n",
       "calculated_host_listings_count        0\n",
       "availability_365                      0\n",
       "number_of_reviews_ltm                 0\n",
       "dtype: int64"
      ]
     },
     "execution_count": 23,
     "metadata": {},
     "output_type": "execute_result"
    }
   ],
   "source": [
    "#Para estas columnas se reemplazarán los valores nulos con el objeto anterior de cada columna\n",
    "\n",
    "Air[\"availability_365\"]= Air[\"availability_365\"].fillna(\"bfill\")\n",
    "Air[\"number_of_reviews_ltm\"]= Air[\"number_of_reviews_ltm\"].fillna(\"bfill\")\n",
    "\n",
    "#Comprobamos los cambios \n",
    "valores_nulos=Air.isnull().sum()\n",
    "valores_nulos"
   ]
  },
  {
   "cell_type": "markdown",
   "metadata": {},
   "source": [
    "#### Columna neighbourhood_group y name"
   ]
  },
  {
   "cell_type": "code",
   "execution_count": null,
   "metadata": {},
   "outputs": [],
   "source": [
    "#Para esta columna reemplazaremos los valore nulos con el string \"Desconocido\"\n",
    "Air[\"neighbourhood_group\"]= Air[\"neighbourhood_group\"].fillna(\"Unknown\")\n",
    "Air[\"name\"]= Air[\"name\"].fillna(\"Unknown\")\n",
    "\n",
    "#Comprobamos los cambios \n",
    "valores_nulos=Air.isnull().sum()\n",
    "valores_nulos\n"
   ]
  },
  {
   "cell_type": "markdown",
   "metadata": {},
   "source": [
    "### Identificación y tratamiento de outliers"
   ]
  },
  {
   "cell_type": "markdown",
   "metadata": {},
   "source": [
    "#### Columna latitude"
   ]
  },
  {
   "cell_type": "code",
   "execution_count": 26,
   "metadata": {},
   "outputs": [
    {
     "data": {
      "image/png": "[encoded data removed]",
      "text/plain": [
       "<Figure size 1080x576 with 1 Axes>"
      ]
     },
     "metadata": {
      "needs_background": "light"
     },
     "output_type": "display_data"
    }
   ],
   "source": [
    "#Evaluamos outliers de la columna, hacemos un boxplot: \n",
    "fig = plt.figure(figsize =(15, 8))\n",
    "Air[\"latitude\"].plot(kind='box', vert=False)\n",
    "plt.title(\"Boxplot de latitude \")\n",
    "plt.show() "
   ]
  },
  {
   "cell_type": "markdown",
   "metadata": {},
   "source": []
  },
  {
   "cell_type": "code",
   "execution_count": null,
   "metadata": {},
   "outputs": [],
   "source": []
  }
 ],
 "metadata": {
  "kernelspec": {
   "display_name": "Python 3.10.6 64-bit",
   "language": "python",
   "name": "python3"
  },
  "language_info": {
   "codemirror_mode": {
    "name": "ipython",
    "version": 3
   },
   "file_extension": ".py",
   "mimetype": "text/x-python",
   "name": "python",
   "nbconvert_exporter": "python",
   "pygments_lexer": "ipython3",
   "version": "3.10.6"
  },
  "orig_nbformat": 4,
  "vscode": {
   "interpreter": {
    "hash": "11a32da29e01205a8970d64bc3d9d944de9781f6310edf4d79f8b59a916b61f2"
   }
  }
 },
 "nbformat": 4,
 "nbformat_minor": 2
}
